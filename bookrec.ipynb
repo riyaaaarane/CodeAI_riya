{
  "nbformat": 4,
  "nbformat_minor": 0,
  "metadata": {
    "colab": {
      "provenance": [],
      "authorship_tag": "ABX9TyMgLCfR1DsMObAYsPZfTrdt",
      "include_colab_link": true
    },
    "kernelspec": {
      "name": "python3",
      "display_name": "Python 3"
    },
    "language_info": {
      "name": "python"
    }
  },
  "cells": [
    {
      "cell_type": "markdown",
      "metadata": {
        "id": "view-in-github",
        "colab_type": "text"
      },
      "source": [
        "<a href=\"https://colab.research.google.com/github/riyaaaarane/CodeAI_riya/blob/main/bookrec.ipynb\" target=\"_parent\"><img src=\"https://colab.research.google.com/assets/colab-badge.svg\" alt=\"Open In Colab\"/></a>"
      ]
    },
    {
      "cell_type": "code",
      "execution_count": null,
      "metadata": {
        "colab": {
          "base_uri": "https://localhost:8080/"
        },
        "id": "kMhyNbm2Hjxz",
        "outputId": "a08ea266-6839-47a9-fde2-c1fbeefaf5a3"
      },
      "outputs": [
        {
          "output_type": "stream",
          "name": "stdout",
          "text": [
            "Mounted at /content/drive\n"
          ]
        }
      ],
      "source": [
        "from google.colab import drive\n",
        "drive.mount('/content/drive')"
      ]
    },
    {
      "cell_type": "code",
      "source": [
        "import pandas as pd"
      ],
      "metadata": {
        "id": "iu66yD3pIjdW"
      },
      "execution_count": null,
      "outputs": []
    },
    {
      "cell_type": "code",
      "source": [
        "books_df = pd.read_csv('/content/drive/MyDrive/books.csv')"
      ],
      "metadata": {
        "id": "M8h7lDuwI3AH"
      },
      "execution_count": null,
      "outputs": []
    },
    {
      "cell_type": "code",
      "source": [
        "def search_books(keyword):\n",
        "  keyword = keyword.lower()\n",
        "  results = books_df[\n",
        "      books_df['title'].str.lower().str.contains(keyword) |\n",
        "      books_df['authors'].str.lower().str.contains(keyword) |\n",
        "      books_df['publisher'].str.lower().str.contains(keyword)\n",
        "  ]\n",
        "  return results\n",
        "\n",
        "def display_books(books):\n",
        "  if books.empty:\n",
        "    print(\"No books found\")\n",
        "  else:\n",
        "    for index, book in books.iterrows():\n",
        "      print(f\"Title: {book['title']}\")\n",
        "      print(f\"Author: {book['authors']}\")\n",
        "      print(f\"Average Rating: {book['average_rating']}\")\n",
        "      print(f\"ISBN: {book['isbn']}\")\n",
        "      print(f\"ISBN13: {book['isbn13']}\")\n",
        "      print(f\"Language: {book['language_code']}\")\n",
        "\n",
        "      if 'num_pages' in books:\n",
        "        print(f\"Number of Pages: {book['num_pages']}\")\n",
        "        print(f\"Ratings Count: {book['ratings_count']}\")\n",
        "        print(f\"Text Reviews Count: {book['text_reviews_count']}\")\n",
        "        print(f\"Publication Date: {book['publication_date']}\")\n",
        "        print(f\"Publisher: {book['publisher']}\")\n",
        "        print('-' + 40)\n",
        "\n",
        "def main():\n",
        "  print(\"Welcome to the Book Recommendation Program!\")\n",
        "  keyword = input(\"Enter a keyword to search for books: \")\n",
        "  results = search_books(keyword)\n",
        "  display_books(results)\n",
        "\n",
        "if __name__ == \"__main__\":\n",
        "  main()"
      ],
      "metadata": {
        "colab": {
          "base_uri": "https://localhost:8080/"
        },
        "id": "xij-rvFbJecA",
        "outputId": "215084d7-3d11-44f6-b9cc-d1c7c9b93a15"
      },
      "execution_count": null,
      "outputs": [
        {
          "output_type": "stream",
          "name": "stdout",
          "text": [
            "Welcome to the Book Recommendation Program!\n",
            "Enter a keyword to search for books: harry potter\n",
            "Title: Harry Potter and the Half-Blood Prince (Harry Potter  #6)\n",
            "Author: J.K. Rowling/Mary GrandPré\n",
            "Average Rating: 4.57\n",
            "ISBN: 439785960\n",
            "ISBN13: 9.78044E+12\n",
            "Language: eng\n",
            "Title: Harry Potter and the Order of the Phoenix (Harry Potter  #5)\n",
            "Author: J.K. Rowling/Mary GrandPré\n",
            "Average Rating: 4.49\n",
            "ISBN: 439358078\n",
            "ISBN13: 9.78044E+12\n",
            "Language: eng\n",
            "Title: Harry Potter and the Chamber of Secrets (Harry Potter  #2)\n",
            "Author: J.K. Rowling\n",
            "Average Rating: 4.42\n",
            "ISBN: 439554896\n",
            "ISBN13: 9.78044E+12\n",
            "Language: eng\n",
            "Title: Harry Potter and the Prisoner of Azkaban (Harry Potter  #3)\n",
            "Author: J.K. Rowling/Mary GrandPré\n",
            "Average Rating: 4.56\n",
            "ISBN: 043965548X\n",
            "ISBN13: 9.78044E+12\n",
            "Language: eng\n",
            "Title: Harry Potter Boxed Set  Books 1-5 (Harry Potter  #1-5)\n",
            "Author: J.K. Rowling/Mary GrandPré\n",
            "Average Rating: 4.78\n",
            "ISBN: 439682584\n",
            "ISBN13: 9.78044E+12\n",
            "Language: eng\n",
            "Title: Unauthorized Harry Potter Book Seven News: \"Half-Blood Prince\" Analysis and Speculation\n",
            "Author: W. Frederick Zimmerman\n",
            "Average Rating: 3.74\n",
            "ISBN: 976540606\n",
            "ISBN13: 9.78098E+12\n",
            "Language: en-US\n",
            "Title: Harry Potter Collection (Harry Potter  #1-6)\n",
            "Author: J.K. Rowling\n",
            "Average Rating: 4.73\n",
            "ISBN: 439827604\n",
            "ISBN13: 9.78044E+12\n",
            "Language: eng\n",
            "Title: Harry Potter Schoolbooks Box Set: Two Classic Books from the Library of Hogwarts School of Witchcraft and Wizardry\n",
            "Author: J.K. Rowling\n",
            "Average Rating: 4.4\n",
            "ISBN: 043932162X\n",
            "ISBN13: 9.78044E+12\n",
            "Language: eng\n",
            "Title: J.K. Rowling's Harry Potter Novels: A Reader's Guide\n",
            "Author: Philip Nel\n",
            "Average Rating: 3.58\n",
            "ISBN: 826452329\n",
            "ISBN13: 9.78083E+12\n",
            "Language: eng\n",
            "Title: Harry Potter and the Half-Blood Prince (Harry Potter  #6)\n",
            "Author: J.K. Rowling\n",
            "Average Rating: 4.57\n",
            "ISBN: 747584664\n",
            "ISBN13: 9.78075E+12\n",
            "Language: eng\n",
            "Title: Harry Potter Y La Piedra Filosofal (Harry Potter  #1)\n",
            "Author: J.K. Rowling\n",
            "Average Rating: 4.47\n",
            "ISBN: 613359607\n",
            "ISBN13: 9.78061E+12\n",
            "Language: spa\n",
            "Title: Harry Potter and the Prisoner of Azkaban (Harry Potter  #3)\n",
            "Author: J.K. Rowling\n",
            "Average Rating: 4.56\n",
            "ISBN: 074757362X\n",
            "ISBN13: 9.78075E+12\n",
            "Language: eng\n",
            "Title: Looking for God in Harry Potter\n",
            "Author: John Granger\n",
            "Average Rating: 4.13\n",
            "ISBN: 1414306342\n",
            "ISBN13: 9.78141E+12\n",
            "Language: eng\n",
            "Title: Mugglenet.Com's What Will Happen in Harry Potter 7: Who Lives  Who Dies  Who Falls in Love and How Will the Adventure Finally End?\n",
            "Author: Ben Schoen/Andy Gordon/Gretchen Stull/Emerson Spartz/Jamie Lawrence\n",
            "Average Rating: 4.23\n",
            "ISBN: 1569755833\n",
            "ISBN13: 9.78157E+12\n",
            "Language: en-GB\n",
            "Title: Harry Potter y el misterio del príncipe (Harry Potter  #6)\n",
            "Author: J.K. Rowling/Gemma Rovira Ortega\n",
            "Average Rating: 4.57\n",
            "ISBN: 8478889930\n",
            "ISBN13: 9.78848E+12\n",
            "Language: spa\n",
            "Title: Harry Potter y la Orden del Fénix (Harry Potter  #5)\n",
            "Author: J.K. Rowling\n",
            "Average Rating: 4.49\n",
            "ISBN: 8478888845\n",
            "ISBN13: 9.78848E+12\n",
            "Language: spa\n",
            "Title: Ultimate Unofficial Guide to the Mysteries of Harry Potter: Analysis of Books 1-4\n",
            "Author: Galadriel Waters/Astre Mithrandir\n",
            "Average Rating: 4.05\n",
            "ISBN: 972393617\n",
            "ISBN13: 9.78097E+12\n",
            "Language: en-US\n",
            "Title: Harry Potter and the Chamber of Secrets (Harry Potter  #2)\n",
            "Author: J.K. Rowling/Mary GrandPré\n",
            "Average Rating: 4.42\n",
            "ISBN: 439064864\n",
            "ISBN13: 9.78044E+12\n",
            "Language: eng\n",
            "Title: Harry Potter and Philosophy: If Aristotle Ran Hogwarts\n",
            "Author: David Baggett/Shawn E. Klein\n",
            "Average Rating: 4.48\n",
            "ISBN: 812694554\n",
            "ISBN13: 9.78081E+12\n",
            "Language: eng\n",
            "Title: Harry Potter and the Sorcerer's Stone (Harry Potter  #1)\n",
            "Author: J.K. Rowling/Mary GrandPré\n",
            "Average Rating: 4.47\n",
            "ISBN: 786222727\n",
            "ISBN13: 9.78079E+12\n",
            "Language: eng\n",
            "Title: Harry Potter und die Kammer des Schreckens (Harry Potter  #2)\n",
            "Author: J.K. Rowling\n",
            "Average Rating: 4.42\n",
            "ISBN: 3551552096\n",
            "ISBN13: 9.78355E+12\n",
            "Language: ger\n",
            "Title: Harry Potter und der Gefangene von Askaban (Harry Potter  #3)\n",
            "Author: J.K. Rowling/Rufus Beck\n",
            "Average Rating: 4.56\n",
            "ISBN: 3895849618\n",
            "ISBN13: 9.7839E+12\n",
            "Language: ger\n",
            "Title: Harry Potter ve Sırlar Odası (Harry Potter  #2)\n",
            "Author: J.K. Rowling/Sevin Okyay\n",
            "Average Rating: 4.42\n",
            "ISBN: 3570211029\n",
            "ISBN13: 9.78357E+12\n",
            "Language: tur\n",
            "Title: Harry Potter und der Gefangene von Askaban (Harry Potter  #3)\n",
            "Author: J.K. Rowling\n",
            "Average Rating: 4.56\n",
            "ISBN: 355155210X\n",
            "ISBN13: 9.78355E+12\n",
            "Language: ger\n",
            "Title: Harry Potter and the Philosopher's Stone (Harry Potter  #1)\n",
            "Author: J.K. Rowling\n",
            "Average Rating: 4.47\n",
            "ISBN: 158234681X\n",
            "ISBN13: 9.78158E+12\n",
            "Language: gla\n",
            "Title: Harry Potter and the Goblet of Fire (Harry Potter  #4)\n",
            "Author: J.K. Rowling\n",
            "Average Rating: 4.56\n",
            "ISBN: 074754624X\n",
            "ISBN13: 9.78075E+12\n",
            "Language: eng\n"
          ]
        }
      ]
    }
  ]
}