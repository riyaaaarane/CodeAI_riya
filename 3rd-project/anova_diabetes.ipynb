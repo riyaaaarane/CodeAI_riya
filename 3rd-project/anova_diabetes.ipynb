{
  "nbformat": 4,
  "nbformat_minor": 0,
  "metadata": {
    "colab": {
      "provenance": [],
      "authorship_tag": "ABX9TyNMNfWqr0PMeqtjP6gP7oCt"
    },
    "kernelspec": {
      "name": "python3",
      "display_name": "Python 3"
    },
    "language_info": {
      "name": "python"
    }
  },
  "cells": [
    {
      "cell_type": "code",
      "execution_count": 1,
      "metadata": {
        "id": "fuvx3vUNjIoh"
      },
      "outputs": [],
      "source": [
        "import pandas as pd\n",
        "import numpy as np\n",
        "import seaborn as sns\n",
        "import os\n",
        "import matplotlib.pyplot as plt\n",
        "import plotly.express as px\n",
        "import plotly.graph_objects as go\n"
      ]
    },
    {
      "cell_type": "code",
      "source": [
        "from google.colab import drive\n",
        "drive.mount('/content/drive')"
      ],
      "metadata": {
        "colab": {
          "base_uri": "https://localhost:8080/"
        },
        "id": "WeVxBIBnkAyY",
        "outputId": "a05e84dd-d020-4d61-9541-f60d07580f20"
      },
      "execution_count": 2,
      "outputs": [
        {
          "output_type": "stream",
          "name": "stdout",
          "text": [
            "Mounted at /content/drive\n"
          ]
        }
      ]
    },
    {
      "cell_type": "code",
      "source": [
        "df = pd.read_csv(\"/content/drive/MyDrive/diabetes.csv\")"
      ],
      "metadata": {
        "id": "RNjjqjvKkJeB"
      },
      "execution_count": 3,
      "outputs": []
    },
    {
      "cell_type": "code",
      "source": [
        "import statsmodels.api as sm\n",
        "from statsmodels.formula.api import ols\n",
        "from scipy.stats import f_oneway\n",
        "# import pandas as pd\n",
        "\n",
        "# Assuming 'data' is your DataFrame containing the dataset\n",
        "\n",
        "# Fit the ANOVA model\n",
        "model = ols('HighBP ~ C(Diabetes_012)', data=df).fit()\n",
        "\n",
        "# Perform ANOVA\n",
        "anova_table = sm.stats.anova_lm(model, typ=2)\n",
        "\n",
        "# Print ANOVA table\n",
        "print(anova_table)\n",
        "\n",
        "# Interpret the results - Check the p-value in the ANOVA table for 'C(waterfront)'\n",
        "alpha = 0.05 # significance level\n",
        "if anova_table['PR(>F)']['C(Diabetes_012)'] < alpha:\n",
        "  print(\"Reject the null hypothesis - There are significant differences in High Blood Pressure (HighBP) between individuals with and without diabetes.\")\n",
        "else:\n",
        "  print(\"Fail to reject the null hypothesis - There are no significant differences in High Blood Pressure (HighBP) between individuals with and without diabetes.\")\n",
        "\n",
        "sqft_living_no_waterfront = df[df['Diabetes_012'] == 0]['HighBP']\n",
        "sqft_living_waterfront = df[df['Diabetes_012'] == 1]['HighBP']\n",
        "\n",
        "# Perform ANOVA test\n",
        "f_statistic, p_value = f_oneway(sqft_living_no_waterfront, sqft_living_waterfront)\n",
        "\n",
        "# Print the results\n",
        "print(\"F statistic:\", f_statistic)\n",
        "print(\"P-value:\", p_value)\n",
        "\n",
        "# Interpret the results\n",
        "alpha = 0.05 # significance level\n",
        "if p_value < alpha:\n",
        "  print(\"Reject the null hypothesis - There are significant differences in High Blood Pressure (HighBP) between individuals with and without diabetes.\")\n",
        "else:\n",
        "  print(\"Fail to reject the null hypothesis - There are no significant differences in High Blood Pressure (HighBP) between individuals with and without diabetes.\")\n",
        ""
      ],
      "metadata": {
        "colab": {
          "base_uri": "https://localhost:8080/"
        },
        "id": "pC50VJO0xzDS",
        "outputId": "a3df1e26-aba7-4982-96a8-7c4e78767f26"
      },
      "execution_count": 6,
      "outputs": [
        {
          "output_type": "stream",
          "name": "stdout",
          "text": [
            "                       sum_sq        df             F  PR(>F)\n",
            "C(Diabetes_012)   4603.920158       2.0  10149.140418     0.0\n",
            "Residual         57537.318722  253677.0           NaN     NaN\n",
            "Reject the null hypothesis - There are significant differences in High Blood Pressure (HighBP) between individuals with and without diabetes.\n",
            "F statistic: 1291.6429323087716\n",
            "P-value: 4.977383282777243e-282\n",
            "Reject the null hypothesis - There are significant differences in High Blood Pressure (HighBP) between individuals with and without diabetes.\n"
          ]
        }
      ]
    }
  ]
}